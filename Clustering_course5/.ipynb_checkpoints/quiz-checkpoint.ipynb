{
 "cells": [
  {
   "cell_type": "code",
   "execution_count": 1,
   "metadata": {},
   "outputs": [
    {
     "name": "stdout",
     "output_type": "stream",
     "text": [
      "0.0878024193548387\n",
      "0.06837121212121212\n",
      "0.5622102689486552\n"
     ]
    }
   ],
   "source": [
    "def calculate_unnorm_prob(n_i, alpha, N_i, K, m_word, gamma, sum_of_m, V):\n",
    "    \"\"\" Calculate unnormalized probability of assigning to topic\n",
    "    \"\"\"\n",
    "    left_formula = (n_i + alpha)/(N_i - 1 + (K * alpha))\n",
    "    right_formula = (m_word + gamma)/(sum_of_m + (V * gamma))\n",
    "    prob = left_formula * right_formula\n",
    "    return prob\n",
    "\n",
    "\n",
    "unnorm_prob_1 = calculate_unnorm_prob(3, 10.0, 5, 2, 20, 0.1, 123, 10)\n",
    "unnorm_prob_2 = calculate_unnorm_prob(1, 10.0, 5, 2, 36, 0.1, 241, 10)\n",
    "print(unnorm_prob_1)\n",
    "print(unnorm_prob_2)\n",
    "prob_1 = unnorm_prob_1/(unnorm_prob_1 + unnorm_prob_2)\n",
    "print(prob_1)"
   ]
  },
  {
   "cell_type": "code",
   "execution_count": null,
   "metadata": {},
   "outputs": [],
   "source": []
  }
 ],
 "metadata": {
  "kernelspec": {
   "display_name": "Python 3",
   "language": "python",
   "name": "python3"
  },
  "language_info": {
   "codemirror_mode": {
    "name": "ipython",
    "version": 3
   },
   "file_extension": ".py",
   "mimetype": "text/x-python",
   "name": "python",
   "nbconvert_exporter": "python",
   "pygments_lexer": "ipython3",
   "version": "3.6.9"
  }
 },
 "nbformat": 4,
 "nbformat_minor": 4
}
