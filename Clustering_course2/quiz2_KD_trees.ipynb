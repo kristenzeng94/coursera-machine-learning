{
 "cells": [
  {
   "cell_type": "code",
   "execution_count": 1,
   "metadata": {},
   "outputs": [],
   "source": [
    "import numpy as np"
   ]
  },
  {
   "cell_type": "code",
   "execution_count": 2,
   "metadata": {},
   "outputs": [
    {
     "data": {
      "text/plain": [
       "array([[-1.58, -2.01],\n",
       "       [ 0.91,  3.98],\n",
       "       [-0.73,  4.  ],\n",
       "       [-4.22,  1.16],\n",
       "       [ 4.19, -2.02],\n",
       "       [-0.33,  2.15]])"
      ]
     },
     "execution_count": 2,
     "metadata": {},
     "output_type": "execute_result"
    }
   ],
   "source": [
    "x1 = np.array([-1.58, 0.91, -0.73, -4.22, 4.19, -0.33])\n",
    "x2 = np.array([-2.01, 3.98, 4.00, 1.16, -2.02, 2.15])\n",
    "\n",
    "x = np.vstack((x1, x2)).T\n",
    "x"
   ]
  },
  {
   "cell_type": "code",
   "execution_count": 3,
   "metadata": {},
   "outputs": [
    {
     "data": {
      "text/plain": [
       "-0.01499999999999968"
      ]
     },
     "execution_count": 3,
     "metadata": {},
     "output_type": "execute_result"
    }
   ],
   "source": [
    "# Mid range of x1\n",
    "x1_midrange = (x1.max() + x1.min())/2\n",
    "x1_midrange"
   ]
  },
  {
   "cell_type": "code",
   "execution_count": 4,
   "metadata": {},
   "outputs": [],
   "source": [
    "def get_mid_range(data, column=0):\n",
    "    \"\"\" Get midrange of data by column\n",
    "    - x1: column=0\n",
    "    - x2: column=1\n",
    "    \"\"\"\n",
    "    midrange = (data[:, column].max() + data[:, column].min())/2\n",
    "    return midrange      \n",
    "\n",
    "def split_by(x, value, column=0):\n",
    "    \"\"\" Split x array by value and column\n",
    "    - x1: column=0\n",
    "    - x2: column=1\n",
    "    \"\"\"\n",
    "    split1 = x[x[:, column] <= value]\n",
    "    split2 = x[x[:, column] > value]\n",
    "    return split1, split2"
   ]
  },
  {
   "cell_type": "code",
   "execution_count": 5,
   "metadata": {},
   "outputs": [
    {
     "data": {
      "text/plain": [
       "array([[-1.58, -2.01],\n",
       "       [-0.73,  4.  ],\n",
       "       [-4.22,  1.16],\n",
       "       [-0.33,  2.15]])"
      ]
     },
     "execution_count": 5,
     "metadata": {},
     "output_type": "execute_result"
    }
   ],
   "source": [
    "x1_midrange = get_mid_range(x)\n",
    "x1_split1, x1_split2 = split_by(x, x1_midrange)\n",
    "\n",
    "# Split values of x1\n",
    "x1_split1"
   ]
  },
  {
   "cell_type": "code",
   "execution_count": 6,
   "metadata": {},
   "outputs": [
    {
     "data": {
      "text/plain": [
       "array([[ 0.91,  3.98],\n",
       "       [ 4.19, -2.02]])"
      ]
     },
     "execution_count": 6,
     "metadata": {},
     "output_type": "execute_result"
    }
   ],
   "source": [
    "# Split values of x1\n",
    "x1_split2"
   ]
  },
  {
   "cell_type": "code",
   "execution_count": 7,
   "metadata": {},
   "outputs": [
    {
     "data": {
      "text/plain": [
       "0.9950000000000001"
      ]
     },
     "execution_count": 7,
     "metadata": {},
     "output_type": "execute_result"
    }
   ],
   "source": [
    "# Mid range of x2 for the 1st split\n",
    "# x1_split1_x2_midrange = (x1_split1[:, 1].max() + x1_split1[:, 1].min())/2\n",
    "x1_split1_x2_midrange = get_mid_range(x1_split1, column=1)\n",
    "\n",
    "x1_split1_x2_midrange"
   ]
  },
  {
   "cell_type": "code",
   "execution_count": 10,
   "metadata": {},
   "outputs": [
    {
     "name": "stdout",
     "output_type": "stream",
     "text": [
      "0.98\n"
     ]
    },
    {
     "data": {
      "text/plain": [
       "array([[-1.58, -2.01]])"
      ]
     },
     "execution_count": 10,
     "metadata": {},
     "output_type": "execute_result"
    }
   ],
   "source": [
    "# # Mid range of x2 for 2nd split\n",
    "x1_split2_x2_midrange = get_mid_range(x1_split2, column=1)\n",
    "\n",
    "print(x1_split2_x2_midrange)\n",
    "x1_split1_x2_split1, x1_split1_x2_split2 = split_by(x1_split1, x1_split2_x2_midrange, column=1)\n",
    "x1_split1_x2_split1"
   ]
  },
  {
   "cell_type": "code",
   "execution_count": 11,
   "metadata": {},
   "outputs": [
    {
     "data": {
      "text/plain": [
       "array([[-0.73,  4.  ],\n",
       "       [-4.22,  1.16],\n",
       "       [-0.33,  2.15]])"
      ]
     },
     "execution_count": 11,
     "metadata": {},
     "output_type": "execute_result"
    }
   ],
   "source": [
    "x1_split1_x2_split2"
   ]
  },
  {
   "cell_type": "code",
   "execution_count": 12,
   "metadata": {},
   "outputs": [
    {
     "data": {
      "text/plain": [
       "2.58"
      ]
     },
     "execution_count": 12,
     "metadata": {},
     "output_type": "execute_result"
    }
   ],
   "source": [
    "x1_split1_x2_split2_midrange = get_mid_range(x1_split1_x2_split2, column=1)\n",
    "x1_split1_x2_split2_midrange"
   ]
  },
  {
   "cell_type": "code",
   "execution_count": 13,
   "metadata": {},
   "outputs": [
    {
     "data": {
      "text/plain": [
       "array([[-4.22,  1.16],\n",
       "       [-0.33,  2.15]])"
      ]
     },
     "execution_count": 13,
     "metadata": {},
     "output_type": "execute_result"
    }
   ],
   "source": [
    "\n",
    "x1_split1_x2_split2_x2_split1, x1_split1_x2_split2_x2_split2 = split_by(x1_split1_x2_split2, \n",
    "                                                                        x1_split1_x2_split2_midrange, \n",
    "                                                                        column=1)\n",
    "x1_split1_x2_split2_x2_split1\n",
    "# Continue to split"
   ]
  },
  {
   "cell_type": "code",
   "execution_count": 14,
   "metadata": {},
   "outputs": [
    {
     "data": {
      "text/plain": [
       "1.6549999999999998"
      ]
     },
     "execution_count": 14,
     "metadata": {},
     "output_type": "execute_result"
    }
   ],
   "source": [
    "x1_split1_x2_split2_x2_split1_midrange = get_mid_range(x1_split1_x2_split2_x2_split1, column=1)\n",
    "x1_split1_x2_split2_x2_split1_midrange"
   ]
  },
  {
   "cell_type": "code",
   "execution_count": null,
   "metadata": {},
   "outputs": [],
   "source": []
  }
 ],
 "metadata": {
  "kernelspec": {
   "display_name": "Python 3",
   "language": "python",
   "name": "python3"
  },
  "language_info": {
   "codemirror_mode": {
    "name": "ipython",
    "version": 3
   },
   "file_extension": ".py",
   "mimetype": "text/x-python",
   "name": "python",
   "nbconvert_exporter": "python",
   "pygments_lexer": "ipython3",
   "version": "3.6.9"
  }
 },
 "nbformat": 4,
 "nbformat_minor": 4
}
